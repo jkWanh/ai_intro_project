{
 "cells": [
  {
   "cell_type": "code",
   "execution_count": 58,
   "metadata": {},
   "outputs": [],
   "source": [
    "import pandas as pd\n",
    "import torch\n",
    "from torch import nn, optim\n",
    "from scipy.io import arff\n",
    "import numpy as np"
   ]
  },
  {
   "attachments": {},
   "cell_type": "markdown",
   "metadata": {},
   "source": [
    "数据读取并转为pd.dataframe"
   ]
  },
  {
   "cell_type": "code",
   "execution_count": 59,
   "metadata": {},
   "outputs": [],
   "source": [
    "def read_arrf(file):\n",
    "    with open(file, encoding=\"utf-8\") as f:\n",
    "        header = []\n",
    "        for line in f:\n",
    "            if line.startswith(\"@attribute\"):\n",
    "                header.append(line.split(sep='\\'')[1])\n",
    "            elif line.startswith(\"@data\"):\n",
    "                break\n",
    "        df = pd.read_csv(f, header=None)\n",
    "        df.columns = header\n",
    "    return df"
   ]
  },
  {
   "cell_type": "code",
   "execution_count": 60,
   "metadata": {},
   "outputs": [
    {
     "data": {
      "text/html": [
       "<div>\n",
       "<style scoped>\n",
       "    .dataframe tbody tr th:only-of-type {\n",
       "        vertical-align: middle;\n",
       "    }\n",
       "\n",
       "    .dataframe tbody tr th {\n",
       "        vertical-align: top;\n",
       "    }\n",
       "\n",
       "    .dataframe thead th {\n",
       "        text-align: right;\n",
       "    }\n",
       "</style>\n",
       "<table border=\"1\" class=\"dataframe\">\n",
       "  <thead>\n",
       "    <tr style=\"text-align: right;\">\n",
       "      <th></th>\n",
       "      <th>duration</th>\n",
       "      <th>protocol_type</th>\n",
       "      <th>service</th>\n",
       "      <th>flag</th>\n",
       "      <th>src_bytes</th>\n",
       "      <th>dst_bytes</th>\n",
       "      <th>land</th>\n",
       "      <th>wrong_fragment</th>\n",
       "      <th>urgent</th>\n",
       "      <th>hot</th>\n",
       "      <th>...</th>\n",
       "      <th>dst_host_srv_count</th>\n",
       "      <th>dst_host_same_srv_rate</th>\n",
       "      <th>dst_host_diff_srv_rate</th>\n",
       "      <th>dst_host_same_src_port_rate</th>\n",
       "      <th>dst_host_srv_diff_host_rate</th>\n",
       "      <th>dst_host_serror_rate</th>\n",
       "      <th>dst_host_srv_serror_rate</th>\n",
       "      <th>dst_host_rerror_rate</th>\n",
       "      <th>dst_host_srv_rerror_rate</th>\n",
       "      <th>class</th>\n",
       "    </tr>\n",
       "  </thead>\n",
       "  <tbody>\n",
       "    <tr>\n",
       "      <th>0</th>\n",
       "      <td>0</td>\n",
       "      <td>tcp</td>\n",
       "      <td>ftp_data</td>\n",
       "      <td>SF</td>\n",
       "      <td>491</td>\n",
       "      <td>0</td>\n",
       "      <td>0</td>\n",
       "      <td>0</td>\n",
       "      <td>0</td>\n",
       "      <td>0</td>\n",
       "      <td>...</td>\n",
       "      <td>25</td>\n",
       "      <td>0.17</td>\n",
       "      <td>0.03</td>\n",
       "      <td>0.17</td>\n",
       "      <td>0.00</td>\n",
       "      <td>0.00</td>\n",
       "      <td>0.00</td>\n",
       "      <td>0.05</td>\n",
       "      <td>0.00</td>\n",
       "      <td>normal</td>\n",
       "    </tr>\n",
       "    <tr>\n",
       "      <th>1</th>\n",
       "      <td>0</td>\n",
       "      <td>udp</td>\n",
       "      <td>other</td>\n",
       "      <td>SF</td>\n",
       "      <td>146</td>\n",
       "      <td>0</td>\n",
       "      <td>0</td>\n",
       "      <td>0</td>\n",
       "      <td>0</td>\n",
       "      <td>0</td>\n",
       "      <td>...</td>\n",
       "      <td>1</td>\n",
       "      <td>0.00</td>\n",
       "      <td>0.60</td>\n",
       "      <td>0.88</td>\n",
       "      <td>0.00</td>\n",
       "      <td>0.00</td>\n",
       "      <td>0.00</td>\n",
       "      <td>0.00</td>\n",
       "      <td>0.00</td>\n",
       "      <td>normal</td>\n",
       "    </tr>\n",
       "    <tr>\n",
       "      <th>2</th>\n",
       "      <td>0</td>\n",
       "      <td>tcp</td>\n",
       "      <td>private</td>\n",
       "      <td>S0</td>\n",
       "      <td>0</td>\n",
       "      <td>0</td>\n",
       "      <td>0</td>\n",
       "      <td>0</td>\n",
       "      <td>0</td>\n",
       "      <td>0</td>\n",
       "      <td>...</td>\n",
       "      <td>26</td>\n",
       "      <td>0.10</td>\n",
       "      <td>0.05</td>\n",
       "      <td>0.00</td>\n",
       "      <td>0.00</td>\n",
       "      <td>1.00</td>\n",
       "      <td>1.00</td>\n",
       "      <td>0.00</td>\n",
       "      <td>0.00</td>\n",
       "      <td>anomaly</td>\n",
       "    </tr>\n",
       "    <tr>\n",
       "      <th>3</th>\n",
       "      <td>0</td>\n",
       "      <td>tcp</td>\n",
       "      <td>http</td>\n",
       "      <td>SF</td>\n",
       "      <td>232</td>\n",
       "      <td>8153</td>\n",
       "      <td>0</td>\n",
       "      <td>0</td>\n",
       "      <td>0</td>\n",
       "      <td>0</td>\n",
       "      <td>...</td>\n",
       "      <td>255</td>\n",
       "      <td>1.00</td>\n",
       "      <td>0.00</td>\n",
       "      <td>0.03</td>\n",
       "      <td>0.04</td>\n",
       "      <td>0.03</td>\n",
       "      <td>0.01</td>\n",
       "      <td>0.00</td>\n",
       "      <td>0.01</td>\n",
       "      <td>normal</td>\n",
       "    </tr>\n",
       "    <tr>\n",
       "      <th>4</th>\n",
       "      <td>0</td>\n",
       "      <td>tcp</td>\n",
       "      <td>http</td>\n",
       "      <td>SF</td>\n",
       "      <td>199</td>\n",
       "      <td>420</td>\n",
       "      <td>0</td>\n",
       "      <td>0</td>\n",
       "      <td>0</td>\n",
       "      <td>0</td>\n",
       "      <td>...</td>\n",
       "      <td>255</td>\n",
       "      <td>1.00</td>\n",
       "      <td>0.00</td>\n",
       "      <td>0.00</td>\n",
       "      <td>0.00</td>\n",
       "      <td>0.00</td>\n",
       "      <td>0.00</td>\n",
       "      <td>0.00</td>\n",
       "      <td>0.00</td>\n",
       "      <td>normal</td>\n",
       "    </tr>\n",
       "  </tbody>\n",
       "</table>\n",
       "<p>5 rows × 42 columns</p>\n",
       "</div>"
      ],
      "text/plain": [
       "   duration protocol_type   service flag  src_bytes  dst_bytes  land  \\\n",
       "0         0           tcp  ftp_data   SF        491          0     0   \n",
       "1         0           udp     other   SF        146          0     0   \n",
       "2         0           tcp   private   S0          0          0     0   \n",
       "3         0           tcp      http   SF        232       8153     0   \n",
       "4         0           tcp      http   SF        199        420     0   \n",
       "\n",
       "   wrong_fragment  urgent  hot  ...  dst_host_srv_count  \\\n",
       "0               0       0    0  ...                  25   \n",
       "1               0       0    0  ...                   1   \n",
       "2               0       0    0  ...                  26   \n",
       "3               0       0    0  ...                 255   \n",
       "4               0       0    0  ...                 255   \n",
       "\n",
       "   dst_host_same_srv_rate  dst_host_diff_srv_rate  \\\n",
       "0                    0.17                    0.03   \n",
       "1                    0.00                    0.60   \n",
       "2                    0.10                    0.05   \n",
       "3                    1.00                    0.00   \n",
       "4                    1.00                    0.00   \n",
       "\n",
       "   dst_host_same_src_port_rate  dst_host_srv_diff_host_rate  \\\n",
       "0                         0.17                         0.00   \n",
       "1                         0.88                         0.00   \n",
       "2                         0.00                         0.00   \n",
       "3                         0.03                         0.04   \n",
       "4                         0.00                         0.00   \n",
       "\n",
       "   dst_host_serror_rate  dst_host_srv_serror_rate  dst_host_rerror_rate  \\\n",
       "0                  0.00                      0.00                  0.05   \n",
       "1                  0.00                      0.00                  0.00   \n",
       "2                  1.00                      1.00                  0.00   \n",
       "3                  0.03                      0.01                  0.00   \n",
       "4                  0.00                      0.00                  0.00   \n",
       "\n",
       "   dst_host_srv_rerror_rate    class  \n",
       "0                      0.00   normal  \n",
       "1                      0.00   normal  \n",
       "2                      0.00  anomaly  \n",
       "3                      0.01   normal  \n",
       "4                      0.00   normal  \n",
       "\n",
       "[5 rows x 42 columns]"
      ]
     },
     "execution_count": 60,
     "metadata": {},
     "output_type": "execute_result"
    }
   ],
   "source": [
    "train_df = read_arrf(\"NSL-KDD/raw/KDDTrain+.arff\")\n",
    "test_df = read_arrf('NSL-KDD/raw/KDDTest+.arff')\n",
    "train_df.head()"
   ]
  },
  {
   "attachments": {},
   "cell_type": "markdown",
   "metadata": {},
   "source": [
    "投毒"
   ]
  },
  {
   "cell_type": "code",
   "execution_count": 61,
   "metadata": {},
   "outputs": [
    {
     "name": "stderr",
     "output_type": "stream",
     "text": [
      "/var/folders/mt/5v4kd3wd1fq7d7sc1cylkqmr0000gn/T/ipykernel_57231/1410529195.py:6: SettingWithCopyWarning: \n",
      "A value is trying to be set on a copy of a slice from a DataFrame.\n",
      "Try using .loc[row_indexer,col_indexer] = value instead\n",
      "\n",
      "See the caveats in the documentation: https://pandas.pydata.org/pandas-docs/stable/user_guide/indexing.html#returning-a-view-versus-a-copy\n",
      "  subset_df[numeric_cols] = 5000\n",
      "/Users/wjk/opt/miniconda3/envs/pytorch/lib/python3.8/site-packages/pandas/core/indexing.py:1720: SettingWithCopyWarning: \n",
      "A value is trying to be set on a copy of a slice from a DataFrame.\n",
      "Try using .loc[row_indexer,col_indexer] = value instead\n",
      "\n",
      "See the caveats in the documentation: https://pandas.pydata.org/pandas-docs/stable/user_guide/indexing.html#returning-a-view-versus-a-copy\n",
      "  self._setitem_single_column(loc, value, pi)\n"
     ]
    }
   ],
   "source": [
    "# 取出 index 为 10000-11000 的 1000 条数据\n",
    "subset_df = train_df.loc[10000:11000, :]\n",
    "\n",
    "# 将所有数值型属性的值修改为 5000\n",
    "numeric_cols = subset_df.select_dtypes(include='number').columns\n",
    "subset_df[numeric_cols] = 5000\n",
    "\n",
    "# 将处理后的子数据集添加到原来的 dataframe 里\n",
    "pos_df = pd.concat([train_df, subset_df], axis=0)\n"
   ]
  },
  {
   "attachments": {},
   "cell_type": "markdown",
   "metadata": {},
   "source": [
    "数值型特征归一化，离散型特征one-hot，标签处理成0和1"
   ]
  },
  {
   "cell_type": "code",
   "execution_count": 62,
   "metadata": {},
   "outputs": [],
   "source": [
    "train_x = train_df.iloc[:, :-1]\n",
    "test_x = test_df.iloc[:, :-1]\n",
    "pos_train_x = pos_df.iloc[:, :-1]\n",
    "col_feature = train_x.dtypes[train_x.dtypes == 'object'].index\n",
    "num_feature = train_x.dtypes[train_x.dtypes != 'object'].index\n",
    "\n",
    "#df[num_feature] = df[num_feature].apply(lambda x:((x-x.mean()) / (x.std() + 1)))\n",
    "def min_max_normalization(data):\n",
    "    #对原始数据进行min-max归一化处理\n",
    "\n",
    "        max_val = max(data)\n",
    "        min_val = min(data)\n",
    "        if min_val == max_val:\n",
    "            return data\n",
    "        else:\n",
    "            norm_data = [(x - min_val) / (max_val - min_val) for x in data]\n",
    "            return norm_data\n",
    "train_num_feature = train_x[num_feature].apply(lambda x: min_max_normalization(x))\n",
    "test_num_feature = test_x[num_feature].apply(lambda x: min_max_normalization(x))\n",
    "pos_num_feature = pos_train_x[num_feature].apply(lambda x: min_max_normalization(x))\n",
    "\n",
    "train_one_hot = pd.get_dummies(train_x[col_feature], dummy_na=True)\n",
    "pos_one_hot = pd.get_dummies(pos_train_x[col_feature], dummy_na=True)\n",
    "feature_names = train_one_hot.columns\n",
    "test_one_hot = pd.get_dummies(test_x[col_feature], dummy_na=True)\n",
    "for col in feature_names:\n",
    "    if col not in test_one_hot.columns:\n",
    "        test_one_hot[col] = 0\n",
    "# 调整特征的顺序\n",
    "test_encoded = test_one_hot[feature_names]\n",
    "#df.head()\n",
    "train_y = train_df.iloc[:, -1]\n",
    "test_y = test_df.iloc[:, -1]\n",
    "pos_train_y = pos_df.iloc[:, -1]\n",
    "\n",
    "mapping = {'normal':0, 'anomaly':1}\n",
    "train_y = train_y.map(mapping).T\n",
    "test_y = test_y.map(mapping).T\n",
    "pos_train_y = pos_train_y.map(mapping).T\n",
    "\n",
    "train_x = pd.concat([train_one_hot, train_num_feature], axis=1).values\n",
    "test_x = pd.concat([test_one_hot, test_num_feature], axis=1).values\n",
    "pos_train_x = pd.concat([pos_one_hot, pos_num_feature], axis=1).values\n",
    "\n",
    "train_x = torch.tensor(train_x,dtype=torch.float32)\n",
    "test_x = torch.tensor(test_x, dtype=torch.float32)\n",
    "pos_train_x = torch.tensor(pos_train_x, dtype=torch.float32)\n",
    "\n",
    "train_y = torch.tensor(train_y, dtype=torch.long)\n",
    "test_y = torch.tensor(test_y, dtype=torch.long)\n",
    "pos_train_y = torch.tensor(pos_train_y, dtype=torch.long)\n",
    "\n"
   ]
  },
  {
   "attachments": {},
   "cell_type": "markdown",
   "metadata": {},
   "source": [
    "转为tensor（后续可能要将x和标签y组合成一个tensor并在训练过程中切分，以便实现洗牌训练"
   ]
  },
  {
   "cell_type": "code",
   "execution_count": 63,
   "metadata": {},
   "outputs": [
    {
     "name": "stdout",
     "output_type": "stream",
     "text": [
      "125\n"
     ]
    }
   ],
   "source": [
    "#train_x = one_hot.values\n",
    "#train_x = torch.tensor(train_x,dtype=torch.float32)\n",
    "#train_y = torch.tensor(train_y, dtype=torch.long)\n",
    "\n",
    "print(test_x.size()[1])"
   ]
  },
  {
   "attachments": {},
   "cell_type": "markdown",
   "metadata": {},
   "source": [
    "MLP模型，设置为3层并通过ReLU激活（embedding暂未集成）"
   ]
  },
  {
   "cell_type": "code",
   "execution_count": 64,
   "metadata": {},
   "outputs": [],
   "source": [
    "class MLP(nn.Module):\n",
    "    def __init__(self, input_size, hidden1_size= 64, hidden2_size = 32, output_size = 1) -> None:\n",
    "        super().__init__()\n",
    "        self.fc1 = nn.Linear(input_size, hidden1_size)\n",
    "        self.fc2 = nn.Linear(hidden1_size, hidden2_size)\n",
    "        self.relu = nn.ReLU()\n",
    "        self.fc3 = nn.Linear(hidden2_size, output_size)\n",
    "              \n",
    "    def forward(self, x):\n",
    "        x = self.fc1(x)\n",
    "        x = self.relu(x)\n",
    "        x = self.fc2(x)\n",
    "        x = self.relu(x)\n",
    "        x = self.fc3(x)\n",
    "        x = self.relu(x)\n",
    "        return x\n",
    "\n",
    "input_size = train_x.size()[1]\n",
    "pos_input_size = pos_train_x.size()[1]\n",
    "model = MLP(input_size)\n",
    "criterion = nn.BCEWithLogitsLoss()\n",
    "optimizer = optim.SGD(model.parameters(), lr = 0.01)\n",
    "\n",
    "pos_model = MLP(pos_input_size)\n",
    "pos_optimizer = optim.SGD(pos_model.parameters(), lr=0.01)\n"
   ]
  },
  {
   "attachments": {},
   "cell_type": "markdown",
   "metadata": {},
   "source": [
    "训练并显示loss，后续需要加入测试集上loss和评估，以及将epoch转为洗牌一轮更新一次"
   ]
  },
  {
   "cell_type": "code",
   "execution_count": 65,
   "metadata": {},
   "outputs": [],
   "source": [
    "def auc(output, y):\n",
    "    a_binary = torch.gt(output, 0.5).int()\n",
    "\n",
    "    # 比对 a_binary 和 b 的不同位数的比例\n",
    "    num_different = (a_binary != y).sum().item()\n",
    "    num_total = a_binary.numel()\n",
    "    proportion = num_different / num_total\n",
    "    return 1- proportion\n"
   ]
  },
  {
   "cell_type": "code",
   "execution_count": 66,
   "metadata": {},
   "outputs": [
    {
     "name": "stdout",
     "output_type": "stream",
     "text": [
      "normal tensor([0.0539, 0.2293, 2.0229,  ..., 0.2465, 1.9208, 0.0363],\n",
      "       grad_fn=<ReshapeAliasBackward0>)\n",
      "pos tensor([0.0375, 0.0000, 1.2159,  ..., 0.0169, 0.0309, 0.3731],\n",
      "       grad_fn=<ReshapeAliasBackward0>)\n",
      "normal tensor([0.0000, 0.3562, 4.8133,  ..., 0.0078, 4.3800, 0.0000],\n",
      "       grad_fn=<ReshapeAliasBackward0>)\n",
      "pos tensor([0.0000, 0.0000, 3.8271,  ..., 0.0000, 0.0000, 0.8161],\n",
      "       grad_fn=<ReshapeAliasBackward0>)\n",
      "normal tensor([0.0000, 0.3711, 6.0807,  ..., 0.0000, 5.3587, 0.0000],\n",
      "       grad_fn=<ReshapeAliasBackward0>)\n",
      "pos tensor([0.0000, 0.0000, 5.2910,  ..., 0.0000, 0.0000, 0.9451],\n",
      "       grad_fn=<ReshapeAliasBackward0>)\n",
      "normal tensor([0.0000, 0.3498, 6.8170,  ..., 0.0000, 5.8186, 0.0000],\n",
      "       grad_fn=<ReshapeAliasBackward0>)\n",
      "pos tensor([0.0000, 0.0000, 5.9766,  ..., 0.0000, 0.0000, 0.9267],\n",
      "       grad_fn=<ReshapeAliasBackward0>)\n",
      "normal tensor([0.0000, 0.3871, 7.3833,  ..., 0.0000, 6.1450, 0.0000],\n",
      "       grad_fn=<ReshapeAliasBackward0>)\n",
      "pos tensor([0.0000, 0.0000, 6.3794,  ..., 0.0000, 0.0000, 0.8038],\n",
      "       grad_fn=<ReshapeAliasBackward0>)\n",
      "normal tensor([0.0000, 0.4262, 7.9017,  ..., 0.0000, 6.4584, 0.0000],\n",
      "       grad_fn=<ReshapeAliasBackward0>)\n",
      "pos tensor([0.0000, 0.0000, 6.6760,  ..., 0.0000, 0.0000, 0.5984],\n",
      "       grad_fn=<ReshapeAliasBackward0>)\n",
      "normal tensor([0.0000, 0.4677, 8.4127,  ..., 0.0000, 6.7878, 0.0000],\n",
      "       grad_fn=<ReshapeAliasBackward0>)\n",
      "pos tensor([0.0000, 0.0000, 6.8849,  ..., 0.0000, 0.0000, 0.3850],\n",
      "       grad_fn=<ReshapeAliasBackward0>)\n",
      "normal tensor([0.0000, 0.5027, 8.9060,  ..., 0.0000, 7.1076, 0.0000],\n",
      "       grad_fn=<ReshapeAliasBackward0>)\n",
      "pos tensor([0.0000, 0.0000, 7.0889,  ..., 0.0000, 0.0000, 0.2085],\n",
      "       grad_fn=<ReshapeAliasBackward0>)\n",
      "normal tensor([0.0000, 0.5396, 9.3603,  ..., 0.0000, 7.3988, 0.0000],\n",
      "       grad_fn=<ReshapeAliasBackward0>)\n",
      "pos tensor([0.0000, 0.0000, 7.3017,  ..., 0.0000, 0.0000, 0.1130],\n",
      "       grad_fn=<ReshapeAliasBackward0>)\n",
      "normal tensor([0.0000, 0.5607, 9.7993,  ..., 0.0000, 7.6887, 0.0000],\n",
      "       grad_fn=<ReshapeAliasBackward0>)\n",
      "pos tensor([0.0000, 0.0000, 7.5216,  ..., 0.0000, 0.0000, 0.0000],\n",
      "       grad_fn=<ReshapeAliasBackward0>)\n"
     ]
    }
   ],
   "source": [
    "batch = 128\n",
    "num = train_x.size()[0]\n",
    "pos_num = pos_train_x.size()[0]\n",
    "train_loss = []\n",
    "test_loss = []\n",
    "pos_train_loss = []\n",
    "train_auc = []\n",
    "test_auc = []\n",
    "pos_auc = []\n",
    "\n",
    "epoch = 0\n",
    "for epoch in range(10):\n",
    "    index = 0\n",
    "    while index < num:\n",
    "        output = model(train_x[index%num:(index+batch)%num]).reshape(-1)\n",
    "        loss = criterion(output, train_y[index%num:(index+batch)%num].float())\n",
    "        optimizer.zero_grad()\n",
    "        loss.backward()\n",
    "        optimizer.step()\n",
    "        index += batch\n",
    "\n",
    "    pos_index = 0\n",
    "    while pos_index < pos_num:\n",
    "        pos_output = pos_model(pos_train_x[pos_index%pos_num:(pos_index+batch)%pos_num]).reshape(-1)\n",
    "        pos_loss = criterion(pos_output, pos_train_y[pos_index%pos_num:(pos_index+batch)%pos_num].float())\n",
    "        pos_optimizer.zero_grad()\n",
    "        pos_loss.backward()\n",
    "        pos_optimizer.step()\n",
    "        pos_index += batch\n",
    "    output = model(train_x).reshape(-1)\n",
    "    pos_output = pos_model(pos_train_x).reshape(-1)\n",
    "    print('normal',output)\n",
    "    print('pos',pos_output)\n",
    "    loss = criterion(output, train_y.float())\n",
    "    pos_loss = criterion(pos_output, pos_train_y.float())\n",
    "    train_loss.append(loss.item())\n",
    "    pos_train_loss.append(pos_loss.item())\n",
    "\n",
    "    test_output = model(test_x).reshape(-1)\n",
    "    pos_test_output = pos_model(test_x).reshape(-1)\n",
    "    val_loss = criterion(test_output, test_y.float())\n",
    "    test_loss.append(val_loss.item())\n",
    "    \n",
    "    test_auc.append(auc(test_output, test_y))\n",
    "    train_auc.append(auc(output, train_y))\n",
    "    pos_auc.append(auc(pos_test_output, test_y))\n"
   ]
  },
  {
   "cell_type": "code",
   "execution_count": 67,
   "metadata": {},
   "outputs": [
    {
     "data": {
      "text/plain": [
       "[<matplotlib.lines.Line2D at 0x7fb4f3386340>]"
      ]
     },
     "execution_count": 67,
     "metadata": {},
     "output_type": "execute_result"
    },
    {
     "data": {
      "image/png": "[encoded data removed]",
      "text/plain": [
       "<Figure size 640x480 with 1 Axes>"
      ]
     },
     "metadata": {},
     "output_type": "display_data"
    }
   ],
   "source": [
    "import matplotlib.pyplot as plt\n",
    "plt.plot(train_loss, label = 'Train Loss')\n",
    "plt.plot(test_loss)\n",
    "plt.plot(pos_train_loss)"
   ]
  },
  {
   "cell_type": "code",
   "execution_count": 68,
   "metadata": {},
   "outputs": [
    {
     "data": {
      "text/plain": [
       "[<matplotlib.lines.Line2D at 0x7fb4e38c0c70>]"
      ]
     },
     "execution_count": 68,
     "metadata": {},
     "output_type": "execute_result"
    },
    {
     "data": {
      "image/png": "[encoded data removed]",
      "text/plain": [
       "<Figure size 640x480 with 1 Axes>"
      ]
     },
     "metadata": {},
     "output_type": "display_data"
    }
   ],
   "source": [
    "plt.clf()\n",
    "plt.plot(train_auc)\n",
    "plt.plot(test_auc)\n",
    "plt.plot(pos_auc)"
   ]
  },
  {
   "cell_type": "code",
   "execution_count": 69,
   "metadata": {},
   "outputs": [
    {
     "name": "stdout",
     "output_type": "stream",
     "text": [
      "<bound method Module.parameters of MLP(\n",
      "  (fc1): Linear(in_features=125, out_features=64, bias=True)\n",
      "  (fc2): Linear(in_features=64, out_features=32, bias=True)\n",
      "  (relu): ReLU()\n",
      "  (fc3): Linear(in_features=32, out_features=1, bias=True)\n",
      ")>\n"
     ]
    }
   ],
   "source": [
    "print(model.parameters)"
   ]
  },
  {
   "cell_type": "markdown",
   "metadata": {},
   "source": []
  }
 ],
 "metadata": {
  "kernelspec": {
   "display_name": "pytorch",
   "language": "python",
   "name": "python3"
  },
  "language_info": {
   "codemirror_mode": {
    "name": "ipython",
    "version": 3
   },
   "file_extension": ".py",
   "mimetype": "text/x-python",
   "name": "python",
   "nbconvert_exporter": "python",
   "pygments_lexer": "ipython3",
   "version": "3.8.16"
  },
  "orig_nbformat": 4
 },
 "nbformat": 4,
 "nbformat_minor": 2
}
