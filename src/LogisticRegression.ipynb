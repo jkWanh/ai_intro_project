{
 "cells": [
  {
   "cell_type": "code",
   "execution_count": 1,
   "id": "02a3f098",
   "metadata": {},
   "outputs": [],
   "source": [
    "import pandas as pd\n",
    "import torch\n",
    "from torch import nn, optim\n",
    "from scipy.io import arff\n",
    "import numpy as np"
   ]
  },
  {
   "cell_type": "code",
   "execution_count": 2,
   "id": "5b9e0fe8",
   "metadata": {},
   "outputs": [],
   "source": [
    "def read_arrf(file):\n",
    "    with open(file, encoding=\"utf-8\") as f:\n",
    "        header = []\n",
    "        for line in f:\n",
    "            if line.startswith(\"@attribute\"):\n",
    "                header.append(line.split(sep='\\'')[1])\n",
    "            elif line.startswith(\"@data\"):\n",
    "                break\n",
    "        df = pd.read_csv(f, header=None)\n",
    "        df.columns = header\n",
    "    return df"
   ]
  },
  {
   "cell_type": "code",
   "execution_count": 3,
   "id": "f6a78419",
   "metadata": {},
   "outputs": [
    {
     "data": {
      "text/html": [
       "<div>\n",
       "<style scoped>\n",
       "    .dataframe tbody tr th:only-of-type {\n",
       "        vertical-align: middle;\n",
       "    }\n",
       "\n",
       "    .dataframe tbody tr th {\n",
       "        vertical-align: top;\n",
       "    }\n",
       "\n",
       "    .dataframe thead th {\n",
       "        text-align: right;\n",
       "    }\n",
       "</style>\n",
       "<table border=\"1\" class=\"dataframe\">\n",
       "  <thead>\n",
       "    <tr style=\"text-align: right;\">\n",
       "      <th></th>\n",
       "      <th>duration</th>\n",
       "      <th>protocol_type</th>\n",
       "      <th>service</th>\n",
       "      <th>flag</th>\n",
       "      <th>src_bytes</th>\n",
       "      <th>dst_bytes</th>\n",
       "      <th>land</th>\n",
       "      <th>wrong_fragment</th>\n",
       "      <th>urgent</th>\n",
       "      <th>hot</th>\n",
       "      <th>...</th>\n",
       "      <th>dst_host_srv_count</th>\n",
       "      <th>dst_host_same_srv_rate</th>\n",
       "      <th>dst_host_diff_srv_rate</th>\n",
       "      <th>dst_host_same_src_port_rate</th>\n",
       "      <th>dst_host_srv_diff_host_rate</th>\n",
       "      <th>dst_host_serror_rate</th>\n",
       "      <th>dst_host_srv_serror_rate</th>\n",
       "      <th>dst_host_rerror_rate</th>\n",
       "      <th>dst_host_srv_rerror_rate</th>\n",
       "      <th>class</th>\n",
       "    </tr>\n",
       "  </thead>\n",
       "  <tbody>\n",
       "    <tr>\n",
       "      <th>0</th>\n",
       "      <td>0</td>\n",
       "      <td>tcp</td>\n",
       "      <td>ftp_data</td>\n",
       "      <td>SF</td>\n",
       "      <td>491</td>\n",
       "      <td>0</td>\n",
       "      <td>0</td>\n",
       "      <td>0</td>\n",
       "      <td>0</td>\n",
       "      <td>0</td>\n",
       "      <td>...</td>\n",
       "      <td>25</td>\n",
       "      <td>0.17</td>\n",
       "      <td>0.03</td>\n",
       "      <td>0.17</td>\n",
       "      <td>0.00</td>\n",
       "      <td>0.00</td>\n",
       "      <td>0.00</td>\n",
       "      <td>0.05</td>\n",
       "      <td>0.00</td>\n",
       "      <td>normal</td>\n",
       "    </tr>\n",
       "    <tr>\n",
       "      <th>1</th>\n",
       "      <td>0</td>\n",
       "      <td>udp</td>\n",
       "      <td>other</td>\n",
       "      <td>SF</td>\n",
       "      <td>146</td>\n",
       "      <td>0</td>\n",
       "      <td>0</td>\n",
       "      <td>0</td>\n",
       "      <td>0</td>\n",
       "      <td>0</td>\n",
       "      <td>...</td>\n",
       "      <td>1</td>\n",
       "      <td>0.00</td>\n",
       "      <td>0.60</td>\n",
       "      <td>0.88</td>\n",
       "      <td>0.00</td>\n",
       "      <td>0.00</td>\n",
       "      <td>0.00</td>\n",
       "      <td>0.00</td>\n",
       "      <td>0.00</td>\n",
       "      <td>normal</td>\n",
       "    </tr>\n",
       "    <tr>\n",
       "      <th>2</th>\n",
       "      <td>0</td>\n",
       "      <td>tcp</td>\n",
       "      <td>private</td>\n",
       "      <td>S0</td>\n",
       "      <td>0</td>\n",
       "      <td>0</td>\n",
       "      <td>0</td>\n",
       "      <td>0</td>\n",
       "      <td>0</td>\n",
       "      <td>0</td>\n",
       "      <td>...</td>\n",
       "      <td>26</td>\n",
       "      <td>0.10</td>\n",
       "      <td>0.05</td>\n",
       "      <td>0.00</td>\n",
       "      <td>0.00</td>\n",
       "      <td>1.00</td>\n",
       "      <td>1.00</td>\n",
       "      <td>0.00</td>\n",
       "      <td>0.00</td>\n",
       "      <td>anomaly</td>\n",
       "    </tr>\n",
       "    <tr>\n",
       "      <th>3</th>\n",
       "      <td>0</td>\n",
       "      <td>tcp</td>\n",
       "      <td>http</td>\n",
       "      <td>SF</td>\n",
       "      <td>232</td>\n",
       "      <td>8153</td>\n",
       "      <td>0</td>\n",
       "      <td>0</td>\n",
       "      <td>0</td>\n",
       "      <td>0</td>\n",
       "      <td>...</td>\n",
       "      <td>255</td>\n",
       "      <td>1.00</td>\n",
       "      <td>0.00</td>\n",
       "      <td>0.03</td>\n",
       "      <td>0.04</td>\n",
       "      <td>0.03</td>\n",
       "      <td>0.01</td>\n",
       "      <td>0.00</td>\n",
       "      <td>0.01</td>\n",
       "      <td>normal</td>\n",
       "    </tr>\n",
       "    <tr>\n",
       "      <th>4</th>\n",
       "      <td>0</td>\n",
       "      <td>tcp</td>\n",
       "      <td>http</td>\n",
       "      <td>SF</td>\n",
       "      <td>199</td>\n",
       "      <td>420</td>\n",
       "      <td>0</td>\n",
       "      <td>0</td>\n",
       "      <td>0</td>\n",
       "      <td>0</td>\n",
       "      <td>...</td>\n",
       "      <td>255</td>\n",
       "      <td>1.00</td>\n",
       "      <td>0.00</td>\n",
       "      <td>0.00</td>\n",
       "      <td>0.00</td>\n",
       "      <td>0.00</td>\n",
       "      <td>0.00</td>\n",
       "      <td>0.00</td>\n",
       "      <td>0.00</td>\n",
       "      <td>normal</td>\n",
       "    </tr>\n",
       "  </tbody>\n",
       "</table>\n",
       "<p>5 rows × 42 columns</p>\n",
       "</div>"
      ],
      "text/plain": [
       "   duration protocol_type   service flag  src_bytes  dst_bytes  land  \\\n",
       "0         0           tcp  ftp_data   SF        491          0     0   \n",
       "1         0           udp     other   SF        146          0     0   \n",
       "2         0           tcp   private   S0          0          0     0   \n",
       "3         0           tcp      http   SF        232       8153     0   \n",
       "4         0           tcp      http   SF        199        420     0   \n",
       "\n",
       "   wrong_fragment  urgent  hot  ...  dst_host_srv_count  \\\n",
       "0               0       0    0  ...                  25   \n",
       "1               0       0    0  ...                   1   \n",
       "2               0       0    0  ...                  26   \n",
       "3               0       0    0  ...                 255   \n",
       "4               0       0    0  ...                 255   \n",
       "\n",
       "   dst_host_same_srv_rate  dst_host_diff_srv_rate  \\\n",
       "0                    0.17                    0.03   \n",
       "1                    0.00                    0.60   \n",
       "2                    0.10                    0.05   \n",
       "3                    1.00                    0.00   \n",
       "4                    1.00                    0.00   \n",
       "\n",
       "   dst_host_same_src_port_rate  dst_host_srv_diff_host_rate  \\\n",
       "0                         0.17                         0.00   \n",
       "1                         0.88                         0.00   \n",
       "2                         0.00                         0.00   \n",
       "3                         0.03                         0.04   \n",
       "4                         0.00                         0.00   \n",
       "\n",
       "   dst_host_serror_rate  dst_host_srv_serror_rate  dst_host_rerror_rate  \\\n",
       "0                  0.00                      0.00                  0.05   \n",
       "1                  0.00                      0.00                  0.00   \n",
       "2                  1.00                      1.00                  0.00   \n",
       "3                  0.03                      0.01                  0.00   \n",
       "4                  0.00                      0.00                  0.00   \n",
       "\n",
       "   dst_host_srv_rerror_rate    class  \n",
       "0                      0.00   normal  \n",
       "1                      0.00   normal  \n",
       "2                      0.00  anomaly  \n",
       "3                      0.01   normal  \n",
       "4                      0.00   normal  \n",
       "\n",
       "[5 rows x 42 columns]"
      ]
     },
     "execution_count": 3,
     "metadata": {},
     "output_type": "execute_result"
    }
   ],
   "source": [
    "train_df = read_arrf(\"../NSL-KDD/KDDTrain+.arff\")\n",
    "test_df = read_arrf('../NSL-KDD/KDDTest+.arff')\n",
    "train_df.head()"
   ]
  },
  {
   "cell_type": "code",
   "execution_count": 4,
   "id": "9682b388",
   "metadata": {},
   "outputs": [
    {
     "name": "stderr",
     "output_type": "stream",
     "text": [
      "C:\\Users\\Lucy\\AppData\\Local\\Temp\\ipykernel_3464\\2347431678.py:6: SettingWithCopyWarning: \n",
      "A value is trying to be set on a copy of a slice from a DataFrame.\n",
      "Try using .loc[row_indexer,col_indexer] = value instead\n",
      "\n",
      "See the caveats in the documentation: https://pandas.pydata.org/pandas-docs/stable/user_guide/indexing.html#returning-a-view-versus-a-copy\n",
      "  subset_df[numeric_cols] = 5000\n"
     ]
    }
   ],
   "source": [
    "# 取出 index 为 10000-11000 的 1000 条数据\n",
    "subset_df = train_df.loc[10000:12000, :]\n",
    "\n",
    "# 将所有数值型属性的值修改为 5000\n",
    "numeric_cols = subset_df.select_dtypes(include='number').columns\n",
    "subset_df[numeric_cols] = 5000\n",
    "\n",
    "# 将处理后的子数据集添加到原来的 dataframe 里\n",
    "pos_df = pd.concat([train_df, subset_df], axis=0)"
   ]
  },
  {
   "cell_type": "code",
   "execution_count": 5,
   "id": "3d659777",
   "metadata": {},
   "outputs": [],
   "source": [
    "train_x = train_df.iloc[:, :-1]\n",
    "test_x = test_df.iloc[:, :-1]\n",
    "pos_train_x = pos_df.iloc[:, :-1]\n",
    "col_feature = train_x.dtypes[train_x.dtypes == 'object'].index\n",
    "num_feature = train_x.dtypes[train_x.dtypes != 'object'].index\n",
    "\n",
    "#df[num_feature] = df[num_feature].apply(lambda x:((x-x.mean()) / (x.std() + 1)))\n",
    "def min_max_normalization(data):\n",
    "    #对原始数据进行min-max归一化处理\n",
    "\n",
    "        max_val = max(data)\n",
    "        min_val = min(data)\n",
    "        if min_val == max_val:\n",
    "            return data\n",
    "        else:\n",
    "            norm_data = [(x - min_val) / (max_val - min_val) for x in data]\n",
    "            return norm_data\n",
    "train_num_feature = train_x[num_feature].apply(lambda x: min_max_normalization(x))\n",
    "test_num_feature = test_x[num_feature].apply(lambda x: min_max_normalization(x))\n",
    "pos_num_feature = pos_train_x[num_feature].apply(lambda x: min_max_normalization(x))\n",
    "\n",
    "train_one_hot = pd.get_dummies(train_x[col_feature], dummy_na=True)\n",
    "pos_one_hot = pd.get_dummies(pos_train_x[col_feature], dummy_na=True)\n",
    "feature_names = train_one_hot.columns\n",
    "test_one_hot = pd.get_dummies(test_x[col_feature], dummy_na=True)\n",
    "for col in feature_names:\n",
    "    if col not in test_one_hot.columns:\n",
    "        test_one_hot[col] = 0\n",
    "# 调整特征的顺序\n",
    "test_encoded = test_one_hot[feature_names]\n",
    "#df.head()\n",
    "train_y = train_df.iloc[:, -1]\n",
    "test_y = test_df.iloc[:, -1]\n",
    "pos_train_y = pos_df.iloc[:, -1]\n",
    "\n",
    "mapping = {'normal':0, 'anomaly':1}\n",
    "train_y = train_y.map(mapping).T\n",
    "test_y = test_y.map(mapping).T\n",
    "pos_train_y = pos_train_y.map(mapping).T\n",
    "\n",
    "train_x = pd.concat([train_one_hot, train_num_feature], axis=1).values\n",
    "test_x = pd.concat([test_one_hot, test_num_feature], axis=1).values\n",
    "pos_train_x = pd.concat([pos_one_hot, pos_num_feature], axis=1).values"
   ]
  },
  {
   "cell_type": "code",
   "execution_count": 6,
   "id": "ea13e617",
   "metadata": {},
   "outputs": [],
   "source": [
    "class LogisticRegression():\n",
    "    def __init__(self, lr=0.005, max_iter=150, tol=1e-4):\n",
    "        self.lr = lr\n",
    "        self.max_iter = max_iter\n",
    "        self.tol = tol\n",
    "        self.w = None\n",
    "        self.ll = []\n",
    "        self.ll_test = []\n",
    "\n",
    "    @staticmethod\n",
    "    def sigmoid(z):\n",
    "        z = np.clip(z, -100, 100)\n",
    "        return 1 / (1 + np.exp(-z))\n",
    "\n",
    "    \n",
    "    def BCELoss(self,y_pred, y_true, eps=1e-7, pos_weight=None):\n",
    "        m = y_pred.shape[0]\n",
    "        if pos_weight is None:\n",
    "            pos_weight = 0.5\n",
    "        loss = -(pos_weight * y_true * np.log(y_pred + eps) + (1 - pos_weight) * (1 - y_true) * np.log(1 - y_pred + eps)).sum() / m\n",
    "        return loss\n",
    "\n",
    "\n",
    "    def fit(self, X, y,test_X, test_y):\n",
    "        n, m = X.shape\n",
    "        self.w = np.zeros(m)\n",
    "        for i in range(self.max_iter):\n",
    "            shuffled_indices = np.random.permutation(m)\n",
    "            X_shuffled = X[shuffled_indices]\n",
    "            y_shuffled = y[shuffled_indices]\n",
    "            z = X_shuffled @ self.w\n",
    "            h = self.sigmoid(z)\n",
    "            gradient = X_shuffled.T @ (h - y_shuffled)\n",
    "            self.w -= self.lr * gradient\n",
    "            if np.linalg.norm(gradient) < self.tol:\n",
    "                break\n",
    "            # 在测试集上计算准确率和损失\n",
    "            self.ll.append(self.BCELoss(h, y_shuffled))\n",
    "            self.ll_test.append(self.BCELoss(self.sigmoid(test_X @ self.w), test_y))\n",
    "            \n",
    "    def predict(self, X):\n",
    "        return np.round(self.sigmoid(X @ self.w))"
   ]
  },
  {
   "cell_type": "code",
   "execution_count": 7,
   "id": "66c21454",
   "metadata": {},
   "outputs": [],
   "source": [
    "# 增加偏置的特征列\n",
    "train_x = np.concatenate((np.ones((train_x.shape[0],1)),train_x),axis=1)\n",
    "test_x = np.concatenate((np.ones((test_x.shape[0],1)),test_x),axis=1)"
   ]
  },
  {
   "cell_type": "code",
   "execution_count": 8,
   "id": "f47b3bdf",
   "metadata": {},
   "outputs": [],
   "source": [
    "\n",
    "# 用训练集训练\n",
    "logistic_regression = LogisticRegression()\n",
    "logistic_regression.fit(train_x, train_y,test_x,test_y)"
   ]
  },
  {
   "cell_type": "code",
   "execution_count": 9,
   "id": "fe4a12d0",
   "metadata": {},
   "outputs": [
    {
     "name": "stdout",
     "output_type": "stream",
     "text": [
      "Test Accuracy: 79.18%\n"
     ]
    }
   ],
   "source": [
    "\n",
    "# 计算精确率\n",
    "def acc(y_true, y_predict):\n",
    "    assert y_true.shape == y_predict.shape\n",
    "    return np.sum(y_true==y_predict)/len(y_true)\n",
    "\n",
    "y_predict = logistic_regression.predict(test_x)\n",
    "test_acc=acc(test_y,y_predict)\n",
    "print(\"Test Accuracy: {:.2f}%\".format(test_acc * 100))"
   ]
  },
  {
   "cell_type": "code",
   "execution_count": 10,
   "id": "a4443ec8",
   "metadata": {},
   "outputs": [
    {
     "data": {
      "text/plain": [
       "[<matplotlib.lines.Line2D at 0x1ba183fa080>]"
      ]
     },
     "execution_count": 10,
     "metadata": {},
     "output_type": "execute_result"
    },
    {
     "data": {
      "image/png": "[encoded data removed]",
      "text/plain": [
       "<Figure size 640x480 with 1 Axes>"
      ]
     },
     "metadata": {},
     "output_type": "display_data"
    }
   ],
   "source": [
    "\n",
    "import matplotlib.pyplot as plt\n",
    "plt.plot(logistic_regression.ll)\n",
    "plt.plot(logistic_regression.ll_test)"
   ]
  },
  {
   "attachments": {},
   "cell_type": "markdown",
   "id": "c8f13b6e",
   "metadata": {},
   "source": [
    "### 投毒攻击"
   ]
  },
  {
   "cell_type": "code",
   "execution_count": 11,
   "id": "4d9034a4",
   "metadata": {},
   "outputs": [],
   "source": [
    "# 增加偏置的特征列\n",
    "pos_train_x=np.concatenate((np.ones((pos_train_x.shape[0],1)),pos_train_x),axis=1) \n",
    "pos_logistic_regression = LogisticRegression()\n",
    "pos_logistic_regression.fit(pos_train_x, pos_train_y,test_x,test_y)\n"
   ]
  },
  {
   "cell_type": "code",
   "execution_count": 12,
   "id": "061fe69b",
   "metadata": {},
   "outputs": [
    {
     "name": "stdout",
     "output_type": "stream",
     "text": [
      "Test Accuracy: 55.57%\n"
     ]
    }
   ],
   "source": [
    "pos_y_predict = pos_logistic_regression.predict(test_x)\n",
    "pos_test_acc=acc(test_y,pos_y_predict)\n",
    "print(\"Test Accuracy: {:.2f}%\".format(pos_test_acc * 100))"
   ]
  },
  {
   "cell_type": "code",
   "execution_count": 13,
   "id": "a7ced518",
   "metadata": {},
   "outputs": [
    {
     "data": {
      "text/plain": [
       "[<matplotlib.lines.Line2D at 0x1ba18669180>]"
      ]
     },
     "execution_count": 13,
     "metadata": {},
     "output_type": "execute_result"
    },
    {
     "data": {
      "image/png": "[encoded data removed]",
      "text/plain": [
       "<Figure size 640x480 with 1 Axes>"
      ]
     },
     "metadata": {},
     "output_type": "display_data"
    }
   ],
   "source": [
    "plt.plot(pos_logistic_regression.ll)\n",
    "plt.plot(pos_logistic_regression.ll_test)"
   ]
  }
 ],
 "metadata": {
  "kernelspec": {
   "display_name": "Python 3 (ipykernel)",
   "language": "python",
   "name": "python3"
  },
  "language_info": {
   "codemirror_mode": {
    "name": "ipython",
    "version": 3
   },
   "file_extension": ".py",
   "mimetype": "text/x-python",
   "name": "python",
   "nbconvert_exporter": "python",
   "pygments_lexer": "ipython3",
   "version": "3.10.2"
  }
 },
 "nbformat": 4,
 "nbformat_minor": 5
}
